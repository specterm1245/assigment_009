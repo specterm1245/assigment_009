{
 "cells": [
  {
   "cell_type": "markdown",
   "metadata": {},
   "source": [
    "Q1, Create a vehicle class with an init method having instance variables as name_of_vehicle, max_speed  and average_of_vehicle.\n",
    "\n",
    "ans:here is an exmple below:\n"
   ]
  },
  {
   "cell_type": "code",
   "execution_count": 11,
   "metadata": {},
   "outputs": [],
   "source": [
    "class vehicle:\n",
    "    def __init__(self, vehicle_name,max_speed,avarage_speed):\n",
    "        \n",
    "        \n",
    "        self.vehicle_name=vehicle_name\n",
    "        self.max_speed=max_speed\n",
    "        self.avarage_speed=avarage_speed\n",
    "        \n",
    "    \n",
    "        \n",
    "    \n",
    "    "
   ]
  },
  {
   "cell_type": "markdown",
   "metadata": {},
   "source": [
    "Q2.  Create a child class car from the vehicle class created in Que 1, which will inherit the vehicle class.  Create a method named seating_capacity which takes capacity as an argument and returns the name of  the vehicle and its seating capacity. \n",
    "\n",
    "ans:"
   ]
  },
  {
   "cell_type": "code",
   "execution_count": 26,
   "metadata": {},
   "outputs": [
    {
     "name": "stdout",
     "output_type": "stream",
     "text": [
      "thye seating capacity oftoyotais5passenger\n"
     ]
    }
   ],
   "source": [
    "class vehicle:\n",
    "    def __init__(self,name):\n",
    "        \n",
    "        self.name=name\n",
    "\n",
    "class car(vehicle):\n",
    "    def seating_capacity(self,capacity):\n",
    "        return \"thye seating capacity of\"+ self.name+ \"is\"+ str(capacity)+ \"passenger\"\n",
    "    \n",
    "car=car(\"toyota\")\n",
    "print(car.seating_capacity(5))\n",
    "\n",
    "        \n",
    "    \n",
    "        \n",
    "    "
   ]
  },
  {
   "cell_type": "markdown",
   "metadata": {},
   "source": [
    "Q3. What is multiple inheritance? Write a python code to demonstrate multiple inheritance.\n",
    "\n",
    "ans:in phython,multiple inheritance is the ability of a class to inherit properties(attribut and methods)\n",
    "    from more than one parent class.\n",
    "   \n",
    "   here is an example:"
   ]
  },
  {
   "cell_type": "code",
   "execution_count": 29,
   "metadata": {},
   "outputs": [
    {
     "name": "stdout",
     "output_type": "stream",
     "text": [
      "this is method one from class one\n",
      "this is method two from class two\n"
     ]
    }
   ],
   "source": [
    "class one:\n",
    "    def method_one(self):\n",
    "        print(\"this is method one from class one\")\n",
    "class two:\n",
    "    def method_two(self):\n",
    "        print(\"this is method two from class two\")\n",
    "class three (one,two):\n",
    "    def method_three(self):\n",
    "        (\"this is method three from three\")\n",
    "    \n",
    "    \n",
    "t=three()\n",
    "t.method_one()\n",
    "t.method_two()\n",
    "t.method_three()\n",
    "    \n",
    "    \n"
   ]
  },
  {
   "cell_type": "markdown",
   "metadata": {},
   "source": [
    "Q4. What are getter and setter in python? Create a class and create a getter and a setter method in this  class.\n",
    "\n",
    "ans:in phython,getter and setter are used to vallidate logic for getting and setting value.They are used to avoid direct access     of the hiddenvariable by the external user.\n",
    "\n",
    "    for example:"
   ]
  },
  {
   "cell_type": "code",
   "execution_count": 32,
   "metadata": {},
   "outputs": [
    {
     "name": "stdout",
     "output_type": "stream",
     "text": [
      "this is method two from class two\n"
     ]
    }
   ],
   "source": [
    "t.method_two()"
   ]
  },
  {
   "cell_type": "code",
   "execution_count": 34,
   "metadata": {},
   "outputs": [
    {
     "name": "stdout",
     "output_type": "stream",
     "text": [
      "this is method one from class one\n"
     ]
    }
   ],
   "source": [
    "t.method_one()"
   ]
  },
  {
   "cell_type": "code",
   "execution_count": 57,
   "metadata": {},
   "outputs": [
    {
     "data": {
      "text/plain": [
       "28"
      ]
     },
     "execution_count": 57,
     "metadata": {},
     "output_type": "execute_result"
    }
   ],
   "source": [
    "class geek:\n",
    "    def __init__(self,age=0):\n",
    "        self._age=age\n",
    "    def get_age(self):\n",
    "        return self._age\n",
    "    def set_age(self,x):\n",
    "        self._age=x\n",
    "    \n",
    "raj=geek()\n",
    "raj.set_age(28)\n",
    "raj.get_age()\n",
    "        "
   ]
  },
  {
   "cell_type": "markdown",
   "metadata": {},
   "source": [
    "Q5.What is method overriding in python? Write a python code to demonstrate method overriding.\n",
    "\n",
    "ans:Method overriding is an ability of any object_oriented programming language that allows\n",
    "    a sub class or child class to mprovide a specific implementation of a method that is already\n",
    "    provided by one of is super class or parent clases."
   ]
  },
  {
   "cell_type": "code",
   "execution_count": 60,
   "metadata": {},
   "outputs": [
    {
     "name": "stdout",
     "output_type": "stream",
     "text": [
      "inside parent\n",
      "inside child\n"
     ]
    }
   ],
   "source": [
    "class parent():\n",
    "    def show(self):\n",
    "        print(\"inside parent\")\n",
    "class child(parent):\n",
    "    def show(self):\n",
    "        print(\"inside child\")\n",
    "        \n",
    "\n",
    "obj1=parent()\n",
    "obj2=child()\n",
    "\n",
    "obj1.show()\n",
    "obj2.show()"
   ]
  },
  {
   "cell_type": "code",
   "execution_count": null,
   "metadata": {},
   "outputs": [],
   "source": []
  },
  {
   "cell_type": "code",
   "execution_count": null,
   "metadata": {},
   "outputs": [],
   "source": []
  },
  {
   "cell_type": "code",
   "execution_count": null,
   "metadata": {},
   "outputs": [],
   "source": []
  }
 ],
 "metadata": {
  "kernelspec": {
   "display_name": "Python 3",
   "language": "python",
   "name": "python3"
  },
  "language_info": {
   "codemirror_mode": {
    "name": "ipython",
    "version": 3
   },
   "file_extension": ".py",
   "mimetype": "text/x-python",
   "name": "python",
   "nbconvert_exporter": "python",
   "pygments_lexer": "ipython3",
   "version": "3.7.0"
  }
 },
 "nbformat": 4,
 "nbformat_minor": 2
}
